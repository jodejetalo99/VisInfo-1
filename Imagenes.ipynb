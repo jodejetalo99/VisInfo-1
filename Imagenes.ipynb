{
 "cells": [
  {
   "cell_type": "code",
   "execution_count": null,
   "metadata": {},
   "outputs": [],
   "source": [
    "import numpy as np\n",
    "import matplotlib.image as mpimg \n",
    "import matplotlib.pyplot as plt \n",
    "%matplotlib inline"
   ]
  },
  {
   "cell_type": "code",
   "execution_count": null,
   "metadata": {},
   "outputs": [],
   "source": [
    "# 24-bit RGB PNG image (8 bits for each of R, G, B)\n",
    "# Mejico.png: PNG image data, 227 x 222, 8-bit/color RGB, non-interlaced\n",
    "img = mpimg.imread('Mejico.png') \n",
    "plt.imshow(img) "
   ]
  },
  {
   "cell_type": "code",
   "execution_count": null,
   "metadata": {},
   "outputs": [],
   "source": [
    "# Matplotlib re-escala la imagen de 8-bits en cada canal, \n",
    "# a float32 enter 0 y 1\n",
    "print(img.shape)\n",
    "print(type(img))\n",
    "print(img.dtype)\n",
    "img"
   ]
  },
  {
   "cell_type": "code",
   "execution_count": null,
   "metadata": {},
   "outputs": [],
   "source": [
    "# Podemos hacer un histograma\n",
    "plt.hist(img.ravel(), bins=32, range=(0.0, 1.0), fc='k', ec='grey')"
   ]
  },
  {
   "cell_type": "code",
   "execution_count": null,
   "metadata": {},
   "outputs": [],
   "source": [
    "fig = plt.figure(figsize=(10,3))\n",
    "axes1 = plt.subplot(1,3,1)\n",
    "axes2 = plt.subplot(1,3,2)\n",
    "axes3 = plt.subplot(1,3,3)\n",
    "\n",
    "axes1.imshow(img[:,:,0])\n",
    "axes2.imshow(img[:,:,1])\n",
    "axes3.imshow(img[:,:,2])"
   ]
  },
  {
   "cell_type": "code",
   "execution_count": null,
   "metadata": {},
   "outputs": [],
   "source": [
    "# Creamos una nueva imagen de un solo canal\n",
    "bw_img = img.mean(axis=2)\n",
    "print(bw_img.shape)\n",
    "print(type(bw_img))\n",
    "print(bw_img.max(), bw_img.min())\n",
    "print(bw_img)"
   ]
  },
  {
   "cell_type": "code",
   "execution_count": null,
   "metadata": {},
   "outputs": [],
   "source": [
    "plt.imshow(bw_img)\n",
    "plt.colorbar()"
   ]
  },
  {
   "cell_type": "code",
   "execution_count": null,
   "metadata": {},
   "outputs": [],
   "source": [
    "# Graficamos la imagen en 3D\n",
    "xg, yg = np.meshgrid(np.linspace(0,1,bw_img.shape[0]), \n",
    "                     np.linspace(0,1,bw_img.shape[1]))\n",
    "\n",
    "import matplotlib.pyplot as plt\n",
    "from mpl_toolkits.mplot3d import Axes3D\n",
    "from matplotlib import cm\n",
    "\n",
    "fig = plt.figure(figsize=(15,10))\n",
    "ax = fig.gca(projection='3d')\n",
    "\n",
    "ax.plot_surface(xg, yg, bw_img.T, cmap=cm.gist_earth, \n",
    "                rstride=1, cstride=1,\n",
    "                antialiased=True, alpha=0.90, shade=False)\n",
    "ax.set_zlim(0,2)\n",
    "ax.view_init(70,-10)"
   ]
  },
  {
   "cell_type": "code",
   "execution_count": null,
   "metadata": {},
   "outputs": [],
   "source": [
    "# Un filtro en una ventana de 3x3\n",
    "def applyFilter(M, F):\n",
    "    A = np.zeros(M.shape)\n",
    "    Nx = M.shape[0]\n",
    "    Ny = M.shape[1]\n",
    "    print(Nx, Ny)\n",
    "    for j in range(1,Ny-2):\n",
    "        for i in range(1,Nx-2):\n",
    "            W = M[i-1:i+2,j-1:j+2]\n",
    "            suma = 0\n",
    "            for jj in range(3):\n",
    "                for ii in range(3):\n",
    "                    suma += W[ii,jj] * F[ii,jj]\n",
    "            A[i,j] = suma\n",
    "    return A"
   ]
  },
  {
   "cell_type": "code",
   "execution_count": null,
   "metadata": {},
   "outputs": [],
   "source": [
    "# Blur\n",
    "F = np.ones((3,3))\n",
    "F *= (1/9)\n",
    "print(F)\n",
    "B = applyFilter(bw_img, F)"
   ]
  },
  {
   "cell_type": "code",
   "execution_count": null,
   "metadata": {},
   "outputs": [],
   "source": [
    "plt.imshow(B)\n",
    "plt.colorbar()"
   ]
  },
  {
   "cell_type": "code",
   "execution_count": null,
   "metadata": {},
   "outputs": [],
   "source": [
    "# Gaussian Blur\n",
    "G = np.array([[1/16, 1/8, 1/16],[1/8,1/4,1/8],[1/16, 1/8, 1/16]])\n",
    "B = applyFilter(bw_img, G)\n",
    "plt.imshow(B)\n",
    "plt.colorbar()"
   ]
  },
  {
   "cell_type": "code",
   "execution_count": null,
   "metadata": {},
   "outputs": [],
   "source": [
    "# Sharpen\n",
    "S = np.array([[0, -1, 0],[-1,5,-1],[0, -1, 0]])\n",
    "B = applyFilter(bw_img, S)\n",
    "plt.imshow(B)\n",
    "plt.colorbar()"
   ]
  },
  {
   "cell_type": "code",
   "execution_count": null,
   "metadata": {},
   "outputs": [],
   "source": [
    "# Edge\n",
    "E = np.array([[1, 0, -1],[0, 0, 0],[-1, 0, 1]])\n",
    "B = applyFilter(bw_img, E)\n",
    "plt.imshow(B, cmap='gray', interpolation='nearest')\n",
    "plt.colorbar()"
   ]
  },
  {
   "cell_type": "code",
   "execution_count": null,
   "metadata": {},
   "outputs": [],
   "source": [
    "# \n",
    "# https://en.wikipedia.org/wiki/Edge_detection\n",
    "# Other first-order methods\n",
    "#\n",
    "EX = np.array([[1,1,1],[0,0,0],[-1,-1,-1]])\n",
    "EY = np.array([[1,0,-1],[1,0,-1],[1,0,-1]])\n",
    "\n",
    "# Sobel operator\n",
    "#EX = np.array([[1,2,1],[0,0,0],[-1,-2,-1]])\n",
    "#EY = np.array([[1,0,-1],[2,0,-2],[1,0,-1]])\n",
    "\n",
    "BX = applyFilter(bw_img, EX)\n",
    "BY = applyFilter(bw_img, EY)\n",
    "B = np.sqrt((BX**2) + (BY**2))\n",
    "#plt.imshow(B)\n",
    "plt.imshow(B, cmap='gray', interpolation='nearest')\n",
    "plt.colorbar()"
   ]
  },
  {
   "cell_type": "code",
   "execution_count": null,
   "metadata": {},
   "outputs": [],
   "source": []
  }
 ],
 "metadata": {
  "kernelspec": {
   "display_name": "Python 3",
   "language": "python",
   "name": "python3"
  },
  "language_info": {
   "codemirror_mode": {
    "name": "ipython",
    "version": 3
   },
   "file_extension": ".py",
   "mimetype": "text/x-python",
   "name": "python",
   "nbconvert_exporter": "python",
   "pygments_lexer": "ipython3",
   "version": "3.7.3"
  }
 },
 "nbformat": 4,
 "nbformat_minor": 2
}
