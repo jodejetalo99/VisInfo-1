{
 "cells": [
  {
   "cell_type": "code",
   "execution_count": null,
   "metadata": {
    "colab": {},
    "colab_type": "code",
    "id": "2NFOtrf-V3CR"
   },
   "outputs": [],
   "source": [
    "# NUMPY para cálculos numéricos entre arreglos\n",
    "import numpy as np\n",
    "\n",
    "# MATPLOTLIB para graficar\n",
    "import matplotlib.pyplot as plt\n",
    "from mpl_toolkits.mplot3d import Axes3D\n",
    "from matplotlib import cm\n",
    "%matplotlib inline"
   ]
  },
  {
   "cell_type": "code",
   "execution_count": null,
   "metadata": {
    "colab": {},
    "colab_type": "code",
    "id": "Y1mAd1hcV3CV"
   },
   "outputs": [],
   "source": [
    "# LLENA LA MATRIZ \"MANUALMENTE\"\n",
    "def Laplaciano2D(Nx, Ny, diag):\n",
    "    \"\"\" Esta funcion calcula los coeficientes del \n",
    "    sistema lineal producido por el operador de \n",
    "    Laplace en 2D. Estos coeficientes son almacenados \n",
    "    en la matriz pentadiagonal correspondiente.\"\"\"\n",
    "    N = Nx * Ny\n",
    "    A = np.zeros((N,N))\n",
    "\n",
    "# Primero llena los bloques tridiagonales\n",
    "    for j in range(0,Ny):\n",
    "        ofs = Nx * j\n",
    "        \n",
    "        A[ofs, ofs] = diag; \n",
    "        A[ofs, ofs + 1] = -1\n",
    "        for i in range(1,Nx-1):\n",
    "            A[ofs + i, ofs + i]     = diag\n",
    "            A[ofs + i, ofs + i + 1] = -1\n",
    "            A[ofs + i, ofs + i - 1] = -1\n",
    "        A[ofs + Nx - 1, ofs + Nx - 2] = -1\n",
    "        A[ofs + Nx - 1, ofs + Nx - 1] = diag \n",
    "\n",
    "# Despues llena las dos diagonales externas\n",
    "    for k in range(0,N-Nx):\n",
    "        A[k, Nx + k] = -1\n",
    "        A[Nx + k, k] = -1\n",
    "        \n",
    "    return A"
   ]
  },
  {
   "cell_type": "code",
   "execution_count": null,
   "metadata": {
    "colab": {},
    "colab_type": "code",
    "id": "jxwGJmUnV3CX"
   },
   "outputs": [],
   "source": [
    "# Datos del problema\n",
    "N = 20\n",
    "Nx = N\n",
    "Ny = N\n",
    "a = 0\n",
    "b = 1\n",
    "h = (b-a)/(N+1)\n",
    "h2= h * h"
   ]
  },
  {
   "cell_type": "code",
   "execution_count": null,
   "metadata": {
    "colab": {},
    "colab_type": "code",
    "id": "jmovV3mLV3CZ"
   },
   "outputs": [],
   "source": [
    "# Malla (fina)\n",
    "x = np.linspace(0,1,Nx+2)\n",
    "y = np.linspace(0,1,Ny+2)\n",
    "xg, yg = np.meshgrid(x,y)\n",
    "#print(xg)\n",
    "#print(yg)"
   ]
  },
  {
   "cell_type": "code",
   "execution_count": null,
   "metadata": {
    "colab": {},
    "colab_type": "code",
    "id": "TdNhTUpAV3Ce"
   },
   "outputs": [],
   "source": [
    "# Solución analítica\n",
    "zg = np.exp(xg * yg)\n",
    "#print(zg)"
   ]
  },
  {
   "cell_type": "code",
   "execution_count": null,
   "metadata": {
    "colab": {
     "base_uri": "https://localhost:8080/",
     "height": 267
    },
    "colab_type": "code",
    "executionInfo": {
     "elapsed": 644,
     "status": "ok",
     "timestamp": 1581003569827,
     "user": {
      "displayName": "Luis Miguel De la Cruz Salas",
      "photoUrl": "https://lh3.googleusercontent.com/a-/AAuE7mB1XI5Ajwqe8eXp5OX7TUg7fobBmC_AxTcDMXPb=s64",
      "userId": "07434690199924097931"
     },
     "user_tz": 360
    },
    "id": "k_L43HZGV3Cg",
    "outputId": "6b586274-79e8-459b-91e3-29a1ccfa05c0"
   },
   "outputs": [],
   "source": [
    "# Grafica la solución analítica\n",
    "fig = plt.figure()\n",
    "ax = fig.gca(projection='3d')\n",
    "ax.set_xlabel('$x$')\n",
    "ax.set_ylabel('$y$')\n",
    "ax.set_zlabel('$u$')\n",
    "ax.set_title('Solución analítica $u(x) = e^{xy}$')\n",
    "ax.set_zlim(-0.01, 3.0)\n",
    "surf = ax.plot_surface(xg, yg, zg, cmap=cm.coolwarm)\n",
    "fig.colorbar(surf, shrink=0.75)"
   ]
  },
  {
   "cell_type": "code",
   "execution_count": null,
   "metadata": {
    "colab": {},
    "colab_type": "code",
    "id": "Q9jPPCfLV3Ck"
   },
   "outputs": [],
   "source": [
    "# Arreglo para almacenar la solución numérica en la malla\n",
    "u = np.ones((Ny+2, Nx+2))\n",
    "#print(u)"
   ]
  },
  {
   "cell_type": "code",
   "execution_count": null,
   "metadata": {
    "colab": {
     "base_uri": "https://localhost:8080/",
     "height": 249
    },
    "colab_type": "code",
    "executionInfo": {
     "elapsed": 937,
     "status": "ok",
     "timestamp": 1581003603954,
     "user": {
      "displayName": "Luis Miguel De la Cruz Salas",
      "photoUrl": "https://lh3.googleusercontent.com/a-/AAuE7mB1XI5Ajwqe8eXp5OX7TUg7fobBmC_AxTcDMXPb=s64",
      "userId": "07434690199924097931"
     },
     "user_tz": 360
    },
    "id": "ydBYC8R2V3Cm",
    "outputId": "b5a9b8ba-5983-4020-d462-d5d3e64a2f9a"
   },
   "outputs": [],
   "source": [
    "# Condiciones de frontera\n",
    "u[ 0, :] = np.exp(x * 0) # y = 0\n",
    "u[-1, :] = np.exp(x * 1) # y = 1\n",
    "u[ :, 0] = np.exp(0 * y) # x = 0\n",
    "u[ :,-1] = np.exp(1 * y) # x = 1\n",
    "\n",
    "#print(u)\n",
    "\n",
    "fig = plt.figure()\n",
    "ax = fig.gca(projection='3d')\n",
    "ax.set_xlabel('$x$')\n",
    "ax.set_ylabel('$y$')\n",
    "ax.set_zlabel('$u$')\n",
    "ax.set_title('Condiciones de frontera $u_{\\partial \\Omega}(x) = e^{xy}$')\n",
    "ax.set_zlim(-0.01, 3.0)\n",
    "surf = ax.plot_surface(xg, yg, u, cmap=cm.coolwarm)"
   ]
  },
  {
   "cell_type": "code",
   "execution_count": null,
   "metadata": {
    "colab": {
     "base_uri": "https://localhost:8080/",
     "height": 251
    },
    "colab_type": "code",
    "executionInfo": {
     "elapsed": 668,
     "status": "ok",
     "timestamp": 1581003650243,
     "user": {
      "displayName": "Luis Miguel De la Cruz Salas",
      "photoUrl": "https://lh3.googleusercontent.com/a-/AAuE7mB1XI5Ajwqe8eXp5OX7TUg7fobBmC_AxTcDMXPb=s64",
      "userId": "07434690199924097931"
     },
     "user_tz": 360
    },
    "id": "tAmq4izhV3Co",
    "outputId": "b6dc06c9-0d75-4272-c45b-a2035eb49248"
   },
   "outputs": [],
   "source": [
    "# RHS del sistema lineal\n",
    "xs = xg[1:-1,1:-1]\n",
    "ys = yg[1:-1,1:-1]\n",
    "\n",
    "f = (1 - xs*xs - ys*ys) * np.exp(xs * ys) * h2\n",
    "\n",
    "# Aplicación de las condiciones de frontera\n",
    "f[ 0, :] += u[ 0, 1:-1] # y = 0\n",
    "f[-1, :] += u[-1, 1:-1] # y = 1\n",
    "f[ :, 0] += u[ 1:-1, 0] # x = 0\n",
    "f[ :,-1] += u[ 1:-1,-1] # x = 1\n",
    "\n",
    "#print(f)\n",
    "\n",
    "fig = plt.figure()\n",
    "ax = fig.gca(projection='3d')\n",
    "ax.set_xlabel('$x$')\n",
    "ax.set_ylabel('$y$')\n",
    "ax.set_zlabel('$f$')\n",
    "ax.set_title('RHS: $f(x,y) = [(1-x^2-y^2)e^{xy}] * h^2$')\n",
    "#ax.set_zlim(-3.0, 3.0)\n",
    "ax.view_init(30, -40)\n",
    "surf = ax.plot_surface(xs, ys, f, cmap=cm.coolwarm)"
   ]
  },
  {
   "cell_type": "code",
   "execution_count": null,
   "metadata": {
    "colab": {
     "base_uri": "https://localhost:8080/",
     "height": 254
    },
    "colab_type": "code",
    "executionInfo": {
     "elapsed": 384,
     "status": "ok",
     "timestamp": 1581003687391,
     "user": {
      "displayName": "Luis Miguel De la Cruz Salas",
      "photoUrl": "https://lh3.googleusercontent.com/a-/AAuE7mB1XI5Ajwqe8eXp5OX7TUg7fobBmC_AxTcDMXPb=s64",
      "userId": "07434690199924097931"
     },
     "user_tz": 360
    },
    "id": "IBnrfeYVV3Cq",
    "outputId": "a9e6d028-6125-4e8c-a503-4fbcab3d6958"
   },
   "outputs": [],
   "source": [
    "# Matriz del sistema lineal\n",
    "A = Laplaciano2D(Nx, Ny, 4 + h2) # Matriz del sistema\n",
    "print(A)"
   ]
  },
  {
   "cell_type": "code",
   "execution_count": null,
   "metadata": {
    "colab": {},
    "colab_type": "code",
    "id": "12PKlNpHV3Ct"
   },
   "outputs": [],
   "source": [
    "# Preparación para obtener la solución del sistema lineal\n",
    "ut = np.copy(u[1:Ny+1,1:Nx+1])\n",
    "ut.shape = ut.size   # Cambiamos los arreglos a formato unidimensional\n",
    "f.shape = f.size # Cambiamos los arreglos a formato unidimensional\n",
    "\n",
    "#print(ut)\n",
    "#print(f)"
   ]
  },
  {
   "cell_type": "code",
   "execution_count": null,
   "metadata": {
    "colab": {
     "base_uri": "https://localhost:8080/",
     "height": 72
    },
    "colab_type": "code",
    "executionInfo": {
     "elapsed": 348,
     "status": "ok",
     "timestamp": 1581003807671,
     "user": {
      "displayName": "Luis Miguel De la Cruz Salas",
      "photoUrl": "https://lh3.googleusercontent.com/a-/AAuE7mB1XI5Ajwqe8eXp5OX7TUg7fobBmC_AxTcDMXPb=s64",
      "userId": "07434690199924097931"
     },
     "user_tz": 360
    },
    "id": "neb9iWY-V3Cw",
    "outputId": "1f9f6fdd-dd05-4e5c-bed6-bc7f74b85eee"
   },
   "outputs": [],
   "source": [
    "import time\n",
    "t1_start = time.perf_counter()\n",
    "ut = np.linalg.solve(A,f)\n",
    "t1_stop = time.perf_counter()\n",
    "#print(ut)\n",
    "print(time.ctime(), '\\n CPUT time: {:0.6f} \\n '.format(t1_stop-t1_start))"
   ]
  },
  {
   "cell_type": "code",
   "execution_count": null,
   "metadata": {
    "colab": {},
    "colab_type": "code",
    "id": "PTrMAuD4V3Cz"
   },
   "outputs": [],
   "source": [
    "ut.shape = (Ny, Nx) # Regresamos el arreglo a formato bidimensional\n",
    "u[1:Ny+1,1:Nx+1] = ut\n",
    "#print(u)"
   ]
  },
  {
   "cell_type": "code",
   "execution_count": null,
   "metadata": {
    "colab": {
     "base_uri": "https://localhost:8080/",
     "height": 267
    },
    "colab_type": "code",
    "executionInfo": {
     "elapsed": 621,
     "status": "ok",
     "timestamp": 1581003813899,
     "user": {
      "displayName": "Luis Miguel De la Cruz Salas",
      "photoUrl": "https://lh3.googleusercontent.com/a-/AAuE7mB1XI5Ajwqe8eXp5OX7TUg7fobBmC_AxTcDMXPb=s64",
      "userId": "07434690199924097931"
     },
     "user_tz": 360
    },
    "id": "gLfspSddV3C1",
    "outputId": "0da61361-4078-45a4-826d-f4ce2994fd59"
   },
   "outputs": [],
   "source": [
    "fig = plt.figure()\n",
    "ax = fig.gca(projection='3d')\n",
    "ax.set_xlabel('$x$')\n",
    "ax.set_ylabel('$y$')\n",
    "ax.set_zlabel('$u$')\n",
    "ax.set_title('Solución numérica $u(x)$')\n",
    "ax.set_zlim(-0.01, 3.0)\n",
    "surf = ax.plot_surface(xg, yg, u, cmap=cm.coolwarm)\n",
    "fig.colorbar(surf, shrink=0.75)"
   ]
  },
  {
   "cell_type": "code",
   "execution_count": null,
   "metadata": {
    "colab": {},
    "colab_type": "code",
    "id": "WRFUsMsDTJfB"
   },
   "outputs": [],
   "source": []
  }
 ],
 "metadata": {
  "colab": {
   "name": "I_LaplacianoDVS.ipynb",
   "provenance": []
  },
  "kernelspec": {
   "display_name": "Python 3",
   "language": "python",
   "name": "python3"
  },
  "language_info": {
   "codemirror_mode": {
    "name": "ipython",
    "version": 3
   },
   "file_extension": ".py",
   "mimetype": "text/x-python",
   "name": "python",
   "nbconvert_exporter": "python",
   "pygments_lexer": "ipython3",
   "version": "3.7.3"
  }
 },
 "nbformat": 4,
 "nbformat_minor": 1
}
