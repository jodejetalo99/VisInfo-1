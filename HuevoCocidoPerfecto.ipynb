{
 "cells": [
  {
   "cell_type": "code",
   "execution_count": null,
   "metadata": {
    "colab": {},
    "colab_type": "code",
    "id": "ICCl_m1vJj04"
   },
   "outputs": [],
   "source": [
    "from ipywidgets import interact, interactive\n",
    "import ipywidgets as widgets\n",
    "import math\n",
    "import numpy as np\n",
    "import matplotlib.pyplot as plt\n",
    "from mpl_toolkits.mplot3d import Axes3D \n",
    "from matplotlib import cm\n",
    "from matplotlib.ticker import LinearLocator, FormatStrFormatter\n",
    "%matplotlib inline"
   ]
  },
  {
   "cell_type": "code",
   "execution_count": null,
   "metadata": {
    "colab": {},
    "colab_type": "code",
    "id": "AenBFsDLJj1I"
   },
   "outputs": [],
   "source": [
    "# Datos iniciales\n",
    "M = 47 # [g]\n",
    "rho = 1.038 # [g /cm^3]\n",
    "c = 3.7 # [J / g K]\n",
    "K = 5.4e-3 # [W / cm K]\n",
    "Tw = 100 # [C]\n",
    "Ty = 70 # [C]"
   ]
  },
  {
   "cell_type": "code",
   "execution_count": null,
   "metadata": {
    "colab": {},
    "colab_type": "code",
    "id": "Q7jUnKIMJj1R"
   },
   "outputs": [],
   "source": [
    "def calcTime(T):\n",
    "    num1 = M**(2/3) * c * rho**(1/3)\n",
    "    den1 = K * math.pi**2 * (4 * math.pi / 3)**(2/3)\n",
    "    t = (num1 /den1) * math.log(0.76 * (T - Tw) / (Ty - Tw))\n",
    "    print('Tiempo = ', t)"
   ]
  },
  {
   "cell_type": "code",
   "execution_count": null,
   "metadata": {
    "colab": {
     "base_uri": "https://localhost:8080/",
     "height": 35
    },
    "colab_type": "code",
    "executionInfo": {
     "elapsed": 517,
     "status": "ok",
     "timestamp": 1581001102273,
     "user": {
      "displayName": "Luis Miguel De la Cruz Salas",
      "photoUrl": "https://lh3.googleusercontent.com/a-/AAuE7mB1XI5Ajwqe8eXp5OX7TUg7fobBmC_AxTcDMXPb=s64",
      "userId": "07434690199924097931"
     },
     "user_tz": 360
    },
    "id": "ZG4x1XgrJj1Y",
    "outputId": "f221bdea-0684-4cc9-8d55-0d67929d0bed"
   },
   "outputs": [],
   "source": [
    "T = 4 # [C]\n",
    "calcTime(T)"
   ]
  },
  {
   "cell_type": "code",
   "execution_count": null,
   "metadata": {
    "colab": {},
    "colab_type": "code",
    "id": "l11TiHLbJj1f"
   },
   "outputs": [],
   "source": [
    "# Construimos un slider\n",
    "w = interactive(calcTime, T=widgets.IntSlider(min=4, max=21, step=1, value=10))"
   ]
  },
  {
   "cell_type": "code",
   "execution_count": null,
   "metadata": {
    "colab": {
     "base_uri": "https://localhost:8080/",
     "height": 67,
     "referenced_widgets": [
      "8724515123f242b2a5f89f4ef29fcf21",
      "adbad2cb1c20455790e6a2ec14fa51c1",
      "393e848a0eea4fbbaa9a409db52de453",
      "a0fc6674740c4f1cb91b7e01c1c2822a",
      "7dd62ded4c25450eb5909dc99a2f4813",
      "32e33a5eef5a4c57819b6614a3293730"
     ]
    },
    "colab_type": "code",
    "executionInfo": {
     "elapsed": 382,
     "status": "ok",
     "timestamp": 1581001108398,
     "user": {
      "displayName": "Luis Miguel De la Cruz Salas",
      "photoUrl": "https://lh3.googleusercontent.com/a-/AAuE7mB1XI5Ajwqe8eXp5OX7TUg7fobBmC_AxTcDMXPb=s64",
      "userId": "07434690199924097931"
     },
     "user_tz": 360
    },
    "id": "zN4u9vVrJj1m",
    "outputId": "ea43c8ef-854c-4d10-8978-59d6fd3a7ffd"
   },
   "outputs": [],
   "source": [
    "display(w)"
   ]
  },
  {
   "cell_type": "code",
   "execution_count": null,
   "metadata": {
    "colab": {},
    "colab_type": "code",
    "id": "ddIim9T9Jj1r"
   },
   "outputs": [],
   "source": [
    "def calcTimeVec(T,M):\n",
    "    num1 = M**(2/3) * c * rho**(1/3)\n",
    "    den1 = K * math.pi**2 * (4 * math.pi / 3)**(2/3)\n",
    "    tiempo = lambda x : (num1 /den1) * math.log(0.76 * (x - Tw) / (Ty - Tw))\n",
    "    t = [tiempo(Ti) for Ti in T]\n",
    "    return t"
   ]
  },
  {
   "cell_type": "code",
   "execution_count": null,
   "metadata": {
    "colab": {
     "base_uri": "https://localhost:8080/",
     "height": 35
    },
    "colab_type": "code",
    "executionInfo": {
     "elapsed": 436,
     "status": "ok",
     "timestamp": 1581001279920,
     "user": {
      "displayName": "Luis Miguel De la Cruz Salas",
      "photoUrl": "https://lh3.googleusercontent.com/a-/AAuE7mB1XI5Ajwqe8eXp5OX7TUg7fobBmC_AxTcDMXPb=s64",
      "userId": "07434690199924097931"
     },
     "user_tz": 360
    },
    "id": "gtkJCaSWJj1v",
    "outputId": "ebfe0aa5-e07b-436b-aa92-034b96ae88d4"
   },
   "outputs": [],
   "source": [
    "Tl = np.arange(4,22,1)\n",
    "print(Tl)"
   ]
  },
  {
   "cell_type": "code",
   "execution_count": null,
   "metadata": {
    "colab": {
     "base_uri": "https://localhost:8080/",
     "height": 55
    },
    "colab_type": "code",
    "executionInfo": {
     "elapsed": 415,
     "status": "ok",
     "timestamp": 1581001286388,
     "user": {
      "displayName": "Luis Miguel De la Cruz Salas",
      "photoUrl": "https://lh3.googleusercontent.com/a-/AAuE7mB1XI5Ajwqe8eXp5OX7TUg7fobBmC_AxTcDMXPb=s64",
      "userId": "07434690199924097931"
     },
     "user_tz": 360
    },
    "id": "X0QkYEHyJj10",
    "outputId": "2290c808-714f-49a2-aef4-ed7f8b96f536"
   },
   "outputs": [],
   "source": [
    "tl = calcTimeVec(Tl,M)\n",
    "print(tl)"
   ]
  },
  {
   "cell_type": "code",
   "execution_count": null,
   "metadata": {
    "colab": {
     "base_uri": "https://localhost:8080/",
     "height": 283
    },
    "colab_type": "code",
    "executionInfo": {
     "elapsed": 618,
     "status": "ok",
     "timestamp": 1581001337003,
     "user": {
      "displayName": "Luis Miguel De la Cruz Salas",
      "photoUrl": "https://lh3.googleusercontent.com/a-/AAuE7mB1XI5Ajwqe8eXp5OX7TUg7fobBmC_AxTcDMXPb=s64",
      "userId": "07434690199924097931"
     },
     "user_tz": 360
    },
    "id": "ziEQJ_Z2Jj1_",
    "outputId": "aa1428c8-4e08-4627-97c1-0148e37dd92d"
   },
   "outputs": [],
   "source": [
    "plt.plot(Tl, tl, 'o-')"
   ]
  },
  {
   "cell_type": "code",
   "execution_count": null,
   "metadata": {
    "colab": {},
    "colab_type": "code",
    "id": "S3NNvD5PJj2F"
   },
   "outputs": [],
   "source": [
    "def calcTimeMat(T,M):\n",
    "    num1 = lambda y: y**(2/3) * c * rho**(1/3)\n",
    "    den1 = K * math.pi**2 * (4 * math.pi / 3)**(2/3)\n",
    "    tiempo = lambda x, y : (num1(y) /den1) * math.log(0.76 * (x - Tw) / (Ty - Tw))\n",
    "    t = [[tiempo(Ti, Mi) for Ti in T] for Mi in M]\n",
    "    return t"
   ]
  },
  {
   "cell_type": "code",
   "execution_count": null,
   "metadata": {
    "colab": {
     "base_uri": "https://localhost:8080/",
     "height": 35
    },
    "colab_type": "code",
    "executionInfo": {
     "elapsed": 392,
     "status": "ok",
     "timestamp": 1581001517238,
     "user": {
      "displayName": "Luis Miguel De la Cruz Salas",
      "photoUrl": "https://lh3.googleusercontent.com/a-/AAuE7mB1XI5Ajwqe8eXp5OX7TUg7fobBmC_AxTcDMXPb=s64",
      "userId": "07434690199924097931"
     },
     "user_tz": 360
    },
    "id": "N0esHaNATvNd",
    "outputId": "e6e78f50-86d0-435b-9573-6120cba2d15c"
   },
   "outputs": [],
   "source": [
    "Ml = np.arange(40,101,10)\n",
    "print(Ml)"
   ]
  },
  {
   "cell_type": "code",
   "execution_count": null,
   "metadata": {
    "colab": {
     "base_uri": "https://localhost:8080/",
     "height": 35
    },
    "colab_type": "code",
    "executionInfo": {
     "elapsed": 380,
     "status": "ok",
     "timestamp": 1581001579156,
     "user": {
      "displayName": "Luis Miguel De la Cruz Salas",
      "photoUrl": "https://lh3.googleusercontent.com/a-/AAuE7mB1XI5Ajwqe8eXp5OX7TUg7fobBmC_AxTcDMXPb=s64",
      "userId": "07434690199924097931"
     },
     "user_tz": 360
    },
    "id": "6E_a0foqT6cc",
    "outputId": "1fb768cb-c89b-4567-e98b-f637df1ec449"
   },
   "outputs": [],
   "source": [
    "t = calcTimeMat(Tl,Ml)\n",
    "print(type(t))"
   ]
  },
  {
   "cell_type": "code",
   "execution_count": null,
   "metadata": {
    "colab": {
     "base_uri": "https://localhost:8080/",
     "height": 318
    },
    "colab_type": "code",
    "executionInfo": {
     "elapsed": 893,
     "status": "ok",
     "timestamp": 1581001682013,
     "user": {
      "displayName": "Luis Miguel De la Cruz Salas",
      "photoUrl": "https://lh3.googleusercontent.com/a-/AAuE7mB1XI5Ajwqe8eXp5OX7TUg7fobBmC_AxTcDMXPb=s64",
      "userId": "07434690199924097931"
     },
     "user_tz": 360
    },
    "id": "ASQ5M600huR1",
    "outputId": "51f24a36-e2dd-4e8d-820b-1e87cca1d8eb"
   },
   "outputs": [],
   "source": [
    "for i,m in enumerate(Ml):\n",
    "  plt.plot(Tl, t[i], label='M = {} [g]'.format(m))\n",
    "\n",
    "plt.xlabel('$T [^oC]$')\n",
    "plt.ylabel('$t [s]$')\n",
    "plt.title('Tiempos de cocción : huevo cocido perfecto')\n",
    "plt.legend()"
   ]
  },
  {
   "cell_type": "code",
   "execution_count": null,
   "metadata": {
    "colab": {
     "base_uri": "https://localhost:8080/",
     "height": 632
    },
    "colab_type": "code",
    "executionInfo": {
     "elapsed": 1124,
     "status": "ok",
     "timestamp": 1581002576657,
     "user": {
      "displayName": "Luis Miguel De la Cruz Salas",
      "photoUrl": "https://lh3.googleusercontent.com/a-/AAuE7mB1XI5Ajwqe8eXp5OX7TUg7fobBmC_AxTcDMXPb=s64",
      "userId": "07434690199924097931"
     },
     "user_tz": 360
    },
    "id": "rbwUT7RQWxHs",
    "outputId": "4f3845b7-5637-44cc-e0d0-258023a8ca62"
   },
   "outputs": [],
   "source": [
    "fig = plt.figure(figsize=(15,10))\n",
    "ax = fig.gca(projection='3d')\n",
    "\n",
    "Tg, Mg = np.meshgrid(Tl,Ml)\n",
    "tg = np.array(t)\n",
    "\n",
    "surf = ax.plot_surface(Tg, Mg, tg, cmap=cm.coolwarm, antialiased=False, alpha=0.75, shade=True)\n",
    "\n",
    "tic = [t for t in range(200,601,50)]\n",
    "\n",
    "print(tic)\n",
    "\n",
    "# Customize the z axis.\n",
    "ax.set_zlim(0, 600)\n",
    "ax.set_ylim(0,120)\n",
    "ax.set_xlim(0,25)\n",
    "ax.zaxis.set_major_locator(LinearLocator(20))\n",
    "ax.zaxis.set_major_formatter(FormatStrFormatter('%.02f'))\n",
    "ax.zaxis.set_ticks(tic)\n",
    "ax.set_title('Tiempos de cocción : huevo cocido perfecto')\n",
    "ax.set_xlabel('$T [^oC]$')\n",
    "ax.set_ylabel('$M [g]$')\n",
    "#ax.view_init(elev = 20, azim=20)\n",
    "\n",
    "cset = ax.contour(Tg, Mg, tg, zdir='z', offset=-0, cmap=cm.coolwarm)\n",
    "cset = ax.contour(Tg, Mg, tg, zdir='x', offset=0, cmap=cm.coolwarm)\n",
    "cset = ax.contour(Tg, Mg, tg, zdir='y', offset=150, cmap=cm.coolwarm)\n",
    "\n",
    "# Add a color bar which maps values to colors.\n",
    "fig.colorbar(surf, shrink=0.5, aspect=10)\n"
   ]
  },
  {
   "cell_type": "code",
   "execution_count": null,
   "metadata": {
    "colab": {},
    "colab_type": "code",
    "id": "RXOhkMgnWXR5"
   },
   "outputs": [],
   "source": []
  }
 ],
 "metadata": {
  "colab": {
   "name": "HuevoCocidoPerfecto.ipynb",
   "provenance": []
  },
  "kernelspec": {
   "display_name": "Python 3",
   "language": "python",
   "name": "python3"
  },
  "language_info": {
   "codemirror_mode": {
    "name": "ipython",
    "version": 3
   },
   "file_extension": ".py",
   "mimetype": "text/x-python",
   "name": "python",
   "nbconvert_exporter": "python",
   "pygments_lexer": "ipython3",
   "version": "3.7.6"
  },
  "widgets": {
   "application/vnd.jupyter.widget-state+json": {
    "32e33a5eef5a4c57819b6614a3293730": {
     "model_module": "@jupyter-widgets/base",
     "model_name": "LayoutModel",
     "state": {
      "_model_module": "@jupyter-widgets/base",
      "_model_module_version": "1.2.0",
      "_model_name": "LayoutModel",
      "_view_count": null,
      "_view_module": "@jupyter-widgets/base",
      "_view_module_version": "1.2.0",
      "_view_name": "LayoutView",
      "align_content": null,
      "align_items": null,
      "align_self": null,
      "border": null,
      "bottom": null,
      "display": null,
      "flex": null,
      "flex_flow": null,
      "grid_area": null,
      "grid_auto_columns": null,
      "grid_auto_flow": null,
      "grid_auto_rows": null,
      "grid_column": null,
      "grid_gap": null,
      "grid_row": null,
      "grid_template_areas": null,
      "grid_template_columns": null,
      "grid_template_rows": null,
      "height": null,
      "justify_content": null,
      "justify_items": null,
      "left": null,
      "margin": null,
      "max_height": null,
      "max_width": null,
      "min_height": null,
      "min_width": null,
      "object_fit": null,
      "object_position": null,
      "order": null,
      "overflow": null,
      "overflow_x": null,
      "overflow_y": null,
      "padding": null,
      "right": null,
      "top": null,
      "visibility": null,
      "width": null
     }
    },
    "393e848a0eea4fbbaa9a409db52de453": {
     "model_module": "@jupyter-widgets/controls",
     "model_name": "IntSliderModel",
     "state": {
      "_dom_classes": [],
      "_model_module": "@jupyter-widgets/controls",
      "_model_module_version": "1.5.0",
      "_model_name": "IntSliderModel",
      "_view_count": null,
      "_view_module": "@jupyter-widgets/controls",
      "_view_module_version": "1.5.0",
      "_view_name": "IntSliderView",
      "continuous_update": true,
      "description": "T",
      "description_tooltip": null,
      "disabled": false,
      "layout": "IPY_MODEL_32e33a5eef5a4c57819b6614a3293730",
      "max": 21,
      "min": 4,
      "orientation": "horizontal",
      "readout": true,
      "readout_format": "d",
      "step": 1,
      "style": "IPY_MODEL_7dd62ded4c25450eb5909dc99a2f4813",
      "value": 15
     }
    },
    "7dd62ded4c25450eb5909dc99a2f4813": {
     "model_module": "@jupyter-widgets/controls",
     "model_name": "SliderStyleModel",
     "state": {
      "_model_module": "@jupyter-widgets/controls",
      "_model_module_version": "1.5.0",
      "_model_name": "SliderStyleModel",
      "_view_count": null,
      "_view_module": "@jupyter-widgets/base",
      "_view_module_version": "1.2.0",
      "_view_name": "StyleView",
      "description_width": "",
      "handle_color": null
     }
    },
    "8724515123f242b2a5f89f4ef29fcf21": {
     "model_module": "@jupyter-widgets/controls",
     "model_name": "VBoxModel",
     "state": {
      "_dom_classes": [
       "widget-interact"
      ],
      "_model_module": "@jupyter-widgets/controls",
      "_model_module_version": "1.5.0",
      "_model_name": "VBoxModel",
      "_view_count": null,
      "_view_module": "@jupyter-widgets/controls",
      "_view_module_version": "1.5.0",
      "_view_name": "VBoxView",
      "box_style": "",
      "children": [
       "IPY_MODEL_393e848a0eea4fbbaa9a409db52de453",
       "IPY_MODEL_a0fc6674740c4f1cb91b7e01c1c2822a"
      ],
      "layout": "IPY_MODEL_adbad2cb1c20455790e6a2ec14fa51c1"
     }
    },
    "a0fc6674740c4f1cb91b7e01c1c2822a": {
     "model_module": "@jupyter-widgets/output",
     "model_name": "OutputModel",
     "state": {
      "_dom_classes": [],
      "_model_module": "@jupyter-widgets/output",
      "_model_module_version": "1.0.0",
      "_model_name": "OutputModel",
      "_view_count": null,
      "_view_module": "@jupyter-widgets/output",
      "_view_module_version": "1.0.0",
      "_view_name": "OutputView",
      "layout": "IPY_MODEL_14658ef89a63443e9fc2ec6ebe51017a",
      "msg_id": "",
      "outputs": [
       {
        "metadata": {
         "tags": []
        },
        "output_type": "stream",
        "stream": "stdout",
        "text": "Tiempo =  270.22063400211084\n"
       }
      ]
     }
    },
    "adbad2cb1c20455790e6a2ec14fa51c1": {
     "model_module": "@jupyter-widgets/base",
     "model_name": "LayoutModel",
     "state": {
      "_model_module": "@jupyter-widgets/base",
      "_model_module_version": "1.2.0",
      "_model_name": "LayoutModel",
      "_view_count": null,
      "_view_module": "@jupyter-widgets/base",
      "_view_module_version": "1.2.0",
      "_view_name": "LayoutView",
      "align_content": null,
      "align_items": null,
      "align_self": null,
      "border": null,
      "bottom": null,
      "display": null,
      "flex": null,
      "flex_flow": null,
      "grid_area": null,
      "grid_auto_columns": null,
      "grid_auto_flow": null,
      "grid_auto_rows": null,
      "grid_column": null,
      "grid_gap": null,
      "grid_row": null,
      "grid_template_areas": null,
      "grid_template_columns": null,
      "grid_template_rows": null,
      "height": null,
      "justify_content": null,
      "justify_items": null,
      "left": null,
      "margin": null,
      "max_height": null,
      "max_width": null,
      "min_height": null,
      "min_width": null,
      "object_fit": null,
      "object_position": null,
      "order": null,
      "overflow": null,
      "overflow_x": null,
      "overflow_y": null,
      "padding": null,
      "right": null,
      "top": null,
      "visibility": null,
      "width": null
     }
    }
   }
  }
 },
 "nbformat": 4,
 "nbformat_minor": 1
}
